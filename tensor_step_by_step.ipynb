{
 "cells": [
  {
   "cell_type": "code",
   "execution_count": 1,
   "metadata": {
    "collapsed": false
   },
   "outputs": [],
   "source": [
    "import tensorflow as tf\n",
    "from math import exp"
   ]
  },
  {
   "cell_type": "code",
   "execution_count": 2,
   "metadata": {},
   "outputs": [
    {
     "name": "stdout",
     "output_type": "stream",
     "text": [
      "Extracting data/train-images-idx3-ubyte.gz\n"
     ]
    },
    {
     "name": "stdout",
     "output_type": "stream",
     "text": [
      "Extracting data/train-labels-idx1-ubyte.gz\nExtracting data/t10k-images-idx3-ubyte.gz\nExtracting data/t10k-labels-idx1-ubyte.gz\n"
     ]
    }
   ],
   "source": [
    "from tensorflow.examples.tutorials.mnist import input_data as mnist_data\n",
    "\n",
    "# Download images and labels into mnist.test (10K images+labels) and mnist.train (60K images+labels)\n",
    "mnist = mnist_data.read_data_sets(\"data\", one_hot=True, reshape=False, validation_size=0)"
   ]
  },
  {
   "cell_type": "code",
   "execution_count": 3,
   "metadata": {
    "collapsed": true
   },
   "outputs": [],
   "source": [
    "# Constants\n",
    "final_nodes = 10\n",
    "width = 28\n",
    "height = 28\n",
    "area = width * height\n",
    "lr = .003"
   ]
  },
  {
   "cell_type": "code",
   "execution_count": 4,
   "metadata": {
    "collapsed": true
   },
   "outputs": [],
   "source": [
    "# Clear Tensor Names. ( Not required)\n",
    "tf.reset_default_graph()"
   ]
  },
  {
   "cell_type": "code",
   "execution_count": 66,
   "metadata": {
    "collapsed": true
   },
   "outputs": [],
   "source": [
    "# Placeholders\n",
    "# - Parameters for future functions that will require data to be passed\n",
    "X = tf.placeholder(tf.float32, [None, width, height, 1]) # image (28 x 28 px) / grey scale (1 channel)\n",
    "\n",
    "Y_ = tf.placeholder(tf.float32, [None, final_nodes]) # Target results"
   ]
  },
  {
   "cell_type": "code",
   "execution_count": 67,
   "metadata": {
    "collapsed": true
   },
   "outputs": [],
   "source": [
    "# Model\n",
    "# - Flatten image\n",
    "XX = tf.reshape(X, [-1, area])"
   ]
  },
  {
   "cell_type": "code",
   "execution_count": 68,
   "metadata": {},
   "outputs": [],
   "source": [
    "# Weights and Bias (v1)\n",
    "# - Variables for use by the network. These get initialized at the start\n",
    "# and do not require additional data to be passed.\n",
    "\n",
    "# 1) A two single arrays to be initialized as zero\n",
    "W = tf.Variable(tf.zeros([area, final_nodes]))\n",
    "B = tf.Variable(tf.zeros([final_nodes]))"
   ]
  },
  {
   "cell_type": "code",
   "execution_count": 69,
   "metadata": {},
   "outputs": [],
   "source": [
    "# Activation Functions\n",
    "# - Requires more layers"
   ]
  },
  {
   "cell_type": "code",
   "execution_count": 70,
   "metadata": {},
   "outputs": [],
   "source": [
    "# Regression Function (V1)\n",
    "Y = tf.nn.softmax(tf.matmul(XX, W) + B)"
   ]
  },
  {
   "cell_type": "code",
   "execution_count": 71,
   "metadata": {
    "collapsed": true
   },
   "outputs": [],
   "source": [
    "# Loss Function (V1-3)\n",
    "cross_entropy = -tf.reduce_sum(Y_ * tf.log(Y))"
   ]
  },
  {
   "cell_type": "code",
   "execution_count": 72,
   "metadata": {},
   "outputs": [],
   "source": [
    "# Optimizer (V1-3)\n",
    "# - Back-propagation function for adjusting weights and biases\n",
    "optimizer = tf.train.GradientDescentOptimizer(lr)\n",
    "train_step = optimizer.minimize(cross_entropy)"
   ]
  },
  {
   "cell_type": "code",
   "execution_count": 73,
   "metadata": {},
   "outputs": [],
   "source": [
    "# Start Tensor Graph  (V1-5)\n",
    "# init = tf.initialize_all_variables() # Deprecated\n",
    "init = tf.global_variables_initializer()\n",
    "\n",
    "sess = tf.Session()\n",
    "sess.run(init)"
   ]
  },
  {
   "cell_type": "code",
   "execution_count": 74,
   "metadata": {},
   "outputs": [],
   "source": [
    "# Training  (V1-4)\n",
    "for i in range(1000):\n",
    "    # load batch of images and correct answers\n",
    "    batch_X, batch_Y = mnist.train.next_batch(100)\n",
    "    train_data={X: batch_X, Y_: batch_Y}\n",
    "\n",
    "    # train\n",
    "    sess.run(train_step, feed_dict=train_data)"
   ]
  },
  {
   "cell_type": "code",
   "execution_count": 75,
   "metadata": {},
   "outputs": [],
   "source": [
    "# Accuracy (V1-6)\n",
    "# - % of correct answers found in batch\n",
    "is_correct = tf.equal(tf.argmax(Y, 1), tf.argmax(Y_, 1))\n",
    "accuracy = tf.reduce_mean(tf.cast(is_correct, tf.float32))"
   ]
  },
  {
   "cell_type": "code",
   "execution_count": 76,
   "metadata": {},
   "outputs": [
    {
     "name": "stdout",
     "output_type": "stream",
     "text": [
      "0.9201\n"
     ]
    }
   ],
   "source": [
    "# Test  (V1-6)\n",
    "test_data={X: mnist.test.images, Y_: mnist.test.labels}\n",
    "a,c = sess.run([accuracy, cross_entropy], feed_dict=test_data)\n",
    "print(a)"
   ]
  },
  {
   "cell_type": "markdown",
   "metadata": {},
   "source": [
    "## Version 2: Another layer and better starting points\n",
    "* This section will add another layer of nodes in the middle (a hidden layer).\n",
    "* New starting points for weights and biases"
   ]
  },
  {
   "cell_type": "code",
   "execution_count": 14,
   "metadata": {},
   "outputs": [],
   "source": [
    "# Constants (v2)\n",
    "hidden_layer = 200"
   ]
  },
  {
   "cell_type": "markdown",
   "metadata": {},
   "source": [
    "### Weights and Bias (v2)\n",
    "* Adding Layers: The more layers, the more filters to pick up features in your data.\n",
    "* Weights: truncated_normal() is used to provide various starting weights.\n",
    "* Bias: tf.ones() is now used giving the init values an average starting point instead of zero"
   ]
  },
  {
   "cell_type": "code",
   "execution_count": null,
   "metadata": {},
   "outputs": [],
   "source": [
    "# Weights and Bias (v2)\n",
    "\n",
    "W1 = tf.Variable(tf.truncated_normal([area, hidden_layer], stddev=0.1))\n",
    "W2 = tf.Variable(tf.truncated_normal([hidden_layer, final_nodes], stddev=0.1))\n",
    "\n",
    "B1 = tf.Variable(tf.ones([hidden_layer])/10)\n",
    "B2 = tf.Variable(tf.zeros([final_nodes]))"
   ]
  },
  {
   "cell_type": "code",
   "execution_count": 16,
   "metadata": {},
   "outputs": [],
   "source": [
    "# Activation Function (V2)\n",
    "# - Activation functions are used on layers to determine the importance of information.\n",
    "# - Products of nodes with small values have increased chances of being ignored.\n",
    "\n",
    "Y = tf.nn.sigmoid(tf.matmul(XX, W1) + B1)"
   ]
  },
  {
   "cell_type": "code",
   "execution_count": null,
   "metadata": {},
   "outputs": [],
   "source": [
    "# Regression Function V2\n",
    "Y = tf.nn.softmax(tf.matmul(Y, W2) + B2)"
   ]
  },
  {
   "cell_type": "markdown",
   "metadata": {},
   "source": [
    "## Version 3\n",
    "* This section will show how to add x amount of layers.\n",
    "* **NOTE:** These new layers will cause a drop in accuracy. Why?"
   ]
  },
  {
   "cell_type": "code",
   "execution_count": 18,
   "metadata": {},
   "outputs": [],
   "source": [
    "# Constants (v3)\n",
    "# - Dynamic number of layers\n",
    "layers = [\n",
    "        area,\n",
    "        200,\n",
    "        100,\n",
    "        60,\n",
    "        30,\n",
    "        10\n",
    "    ]"
   ]
  },
  {
   "cell_type": "code",
   "execution_count": 19,
   "metadata": {},
   "outputs": [],
   "source": [
    "# Weights and Bias (v3-5)\n",
    "# - A list of Weights and Biases that loop through the layers\n",
    "\n",
    "WW = [\n",
    "    tf.Variable(tf.truncated_normal(\n",
    "        [layers[i], layers[i+1]],\n",
    "        stddev=0.1,\n",
    "        name=\"Weight\" + str(i)\n",
    "    ))\n",
    "    for i in range(len(layers)-1)\n",
    "]\n",
    "\n",
    "BB = [\n",
    "    tf.Variable(tf.ones([layers[i]])/10, \"Bias\" + str(i))\n",
    "    for i in range(1, len(layers))\n",
    "]"
   ]
  },
  {
   "cell_type": "code",
   "execution_count": 18,
   "metadata": {},
   "outputs": [],
   "source": [
    "# Activation Function (v3)\n",
    "# - Looping Activations\n",
    "\n",
    "Y = XX\n",
    "\n",
    "i = 0\n",
    "for i in range(len(layers)-2):\n",
    "    name = \"activate_\" + str(i)\n",
    "    Y = tf.nn.sigmoid(tf.matmul(Y, WW[i], name=name) + BB[i])"
   ]
  },
  {
   "cell_type": "code",
   "execution_count": null,
   "metadata": {},
   "outputs": [],
   "source": [
    "# Regression Function (v3)\n",
    "# - Formats the output into a format we can use for training against the target\n",
    "\n",
    "Y = tf.nn.softmax(tf.matmul(Y, WW[i+1]) + BB[i+1])"
   ]
  },
  {
   "cell_type": "markdown",
   "metadata": {},
   "source": [
    "## Version 4: Function Swapping\n",
    "*  Activation: Replaces `sigmoid` with `relu`\n",
    "* Loss Function: Use activatino results instead of softmax. Adjust function to handle 0 which `softmax` never returned\n",
    "* Optimizer: replace `GradientDescentOptimiser` with `AdamOptimizer`"
   ]
  },
  {
   "cell_type": "code",
   "execution_count": 20,
   "metadata": {},
   "outputs": [],
   "source": [
    "# Activation Functions (v4)\n",
    "# - Using Relu\n",
    "\n",
    "Y = XX\n",
    "i = 0\n",
    "for i in range(len(layers)-2):\n",
    "    name = \"activate_\" + str(i)\n",
    "    Y = tf.nn.relu(tf.matmul(Y, WW[i], name=name) + BB[i])"
   ]
  },
  {
   "cell_type": "code",
   "execution_count": 21,
   "metadata": {},
   "outputs": [],
   "source": [
    "# Regression Functions (v4)\n",
    "# - Break out logits for loss function\n",
    "\n",
    "Ylogits = tf.matmul(Y, WW[i+1]) + BB[i+1]\n",
    "Y = tf.nn.softmax(Ylogits)"
   ]
  },
  {
   "cell_type": "code",
   "execution_count": 22,
   "metadata": {},
   "outputs": [],
   "source": [
    "# Loss Function (V4)\n",
    "# - Loss function based upon Activation and not Regression\n",
    "# - Fixes the issue where the tf.log function tries to compute 0\n",
    "logits = tf.nn.softmax_cross_entropy_with_logits(logits=Ylogits, labels=Y_)\n",
    "cross_entropy = tf.reduce_mean(logits) * 100"
   ]
  },
  {
   "cell_type": "code",
   "execution_count": 23,
   "metadata": {},
   "outputs": [],
   "source": [
    "# Optimizer (V4)\n",
    "# - tf has many optimizers\n",
    "# - AdamOptimizer works well with large dimensional layers.\n",
    "\n",
    "optimizer = tf.train.AdamOptimizer(lr)\n",
    "train_step = optimizer.minimize(cross_entropy)"
   ]
  },
  {
   "cell_type": "markdown",
   "metadata": {},
   "source": [
    "## Version 5: Learning Rates\n",
    "* Provides a dynamic learning rate that decreases over time.\n",
    "* Without decay more recent data has a bigger impact."
   ]
  },
  {
   "cell_type": "code",
   "execution_count": 24,
   "metadata": {},
   "outputs": [],
   "source": [
    "# Constants (v5)\n",
    "\n",
    "lrmax = 0.003\n",
    "lrmin = 0.00001\n",
    "decay_speed = 2000.0"
   ]
  },
  {
   "cell_type": "code",
   "execution_count": 25,
   "metadata": {},
   "outputs": [],
   "source": [
    "# Placeholders (V5)\n",
    "# - For Learning Curve\n",
    "L = tf.placeholder(tf.float32)"
   ]
  },
  {
   "cell_type": "code",
   "execution_count": 37,
   "metadata": {},
   "outputs": [],
   "source": [
    "# Training (V5-6)\n",
    "# - Learning rate decreases as time goes on.\n",
    "\n",
    "for i in range(1000):\n",
    "    batch_X, batch_Y = mnist.train.next_batch(100)\n",
    "    learning_rate = lrmin + (lrmax - lrmin) * exp(-i / decay_speed)\n",
    "    train_data = {X: batch_X, Y_: batch_Y, L: learning_rate}\n",
    "\n",
    "    # train\n",
    "    sess.run(train_step, feed_dict=train_data)"
   ]
  },
  {
   "cell_type": "markdown",
   "metadata": {},
   "source": [
    "## Version 6: Dropoff\n",
    "* Randomly shuts off nodes \n",
    "* Prevents over fitting (The network could find unrelated data important)"
   ]
  },
  {
   "cell_type": "code",
   "execution_count": null,
   "metadata": {},
   "outputs": [],
   "source": [
    "# Constants (V6)\n",
    "keep_ratio = 0.9"
   ]
  },
  {
   "cell_type": "code",
   "execution_count": 31,
   "metadata": {},
   "outputs": [],
   "source": [
    "# Placeholders (V6)\n",
    "# - For dropoff\n",
    "pkeep = tf.placeholder(tf.float32)"
   ]
  },
  {
   "cell_type": "code",
   "execution_count": null,
   "metadata": {},
   "outputs": [],
   "source": [
    "# Activation Functions (v6)\n",
    "# - Turns off some nodes. Prevents false positives from being piked up\n",
    "\n",
    "Y = XX\n",
    "i = 0\n",
    "for i in range(len(layers)-2):\n",
    "    name = \"activate_\" + str(i)\n",
    "    Y = tf.nn.relu(tf.matmul(Y, WW[i], name=name) + BB[i])\n",
    "    Y = tf.nn.dropout(Y, pkeep)"
   ]
  },
  {
   "cell_type": "code",
   "execution_count": null,
   "metadata": {},
   "outputs": [],
   "source": [
    "# Training (V6)\n",
    "# - Turns off some nodes. Prevents false positives from being piked up\n",
    "\n",
    "for i in range(1000):\n",
    "    batch_X, batch_Y = mnist.train.next_batch(100)\n",
    "    learning_rate = lrmin + (lrmax - lrmin) * exp(-i / decay_speed)\n",
    "    train_data = {\n",
    "        X: batch_X,\n",
    "        Y_: batch_Y,\n",
    "        L: learning_rate,\n",
    "        pkeep: keep_ratio\n",
    "    }\n",
    "\n",
    "    sess.run(train_step, feed_dict=train_data)"
   ]
  },
  {
   "cell_type": "code",
   "execution_count": null,
   "metadata": {},
   "outputs": [],
   "source": [
    "# Testing V6\n",
    "# - Test with all nodes on.\n",
    "test_data = {X: mnist.test.images, Y_: mnist.test.labels, pkeep: 1.0}\n",
    "a,c = sess.run([accuracy, cross_entropy], feed_dict=test_data)\n",
    "print(a)"
   ]
  },
  {
   "cell_type": "code",
   "execution_count": 50,
   "metadata": {},
   "outputs": [],
   "source": [
    "# Final Constants\n",
    "\n",
    "# Image Format\n",
    "width = 28\n",
    "height = 28\n",
    "area = width * height\n",
    "\n",
    "# Learning Rate Values\n",
    "lrmax = 0.003\n",
    "lrmin = 0.00001\n",
    "decay_speed = 2000.0\n",
    "\n",
    "# Layers\n",
    "layers = [area, 200, 100, 60, 30, 10]\n",
    "\n",
    "# Dropoff\n",
    "keep_ratio = 0.9"
   ]
  },
  {
   "cell_type": "code",
   "execution_count": 41,
   "metadata": {},
   "outputs": [],
   "source": [
    "# Placeholders\n",
    "X = tf.placeholder(tf.float32, [None, 28, 28, 1])\n",
    "Y_ = tf.placeholder(tf.float32, [None, 10])\n",
    "L = tf.placeholder(tf.float32)\n",
    "pkeep = tf.placeholder(tf.float32)"
   ]
  },
  {
   "cell_type": "code",
   "execution_count": 42,
   "metadata": {},
   "outputs": [],
   "source": [
    "# Weights and Bias\n",
    "WW = [\n",
    "    tf.Variable(tf.truncated_normal(\n",
    "        [layers[i], layers[i+1]],\n",
    "        stddev=0.1,\n",
    "        name=\"Weight\" + str(i)\n",
    "    ))\n",
    "    for i in range(len(layers)-1)\n",
    "]\n",
    "\n",
    "BB = [\n",
    "    tf.Variable(tf.ones([layers[i]])/10, \"Bias\" + str(i))\n",
    "    for i in range(1, len(layers))\n",
    "]"
   ]
  },
  {
   "cell_type": "code",
   "execution_count": 43,
   "metadata": {},
   "outputs": [],
   "source": [
    "# Model\n",
    "# - Flatten image\n",
    "Y = tf.reshape(X, [-1, area])"
   ]
  },
  {
   "cell_type": "code",
   "execution_count": 44,
   "metadata": {},
   "outputs": [],
   "source": [
    "# Activation Function\n",
    "i = 0\n",
    "for i in range(len(layers)-2):\n",
    "    name = \"activate_\" + str(i)\n",
    "    Y = tf.nn.relu(tf.matmul(Y, WW[i], name=name) + BB[i])\n",
    "    Y = tf.nn.dropout(Y, pkeep)"
   ]
  },
  {
   "cell_type": "code",
   "execution_count": 45,
   "metadata": {},
   "outputs": [],
   "source": [
    "# Regression Functions\n",
    "Ylogits = tf.matmul(Y, WW[i+1]) + BB[i+1]\n",
    "Y = tf.nn.softmax(Ylogits)"
   ]
  },
  {
   "cell_type": "code",
   "execution_count": 46,
   "metadata": {},
   "outputs": [],
   "source": [
    "# Loss Function\n",
    "logits = tf.nn.softmax_cross_entropy_with_logits(logits=Ylogits, labels=Y_)\n",
    "cross_entropy = tf.reduce_mean(logits) * 100"
   ]
  },
  {
   "cell_type": "code",
   "execution_count": 47,
   "metadata": {},
   "outputs": [],
   "source": [
    "# Optimizer\n",
    "optimizer = tf.train.AdamOptimizer(lr)\n",
    "train_step = optimizer.minimize(cross_entropy)"
   ]
  },
  {
   "cell_type": "code",
   "execution_count": 48,
   "metadata": {},
   "outputs": [],
   "source": [
    "# Start Tensor Graph\n",
    "init = tf.global_variables_initializer()\n",
    "\n",
    "sess = tf.Session()\n",
    "sess.run(init)"
   ]
  },
  {
   "cell_type": "code",
   "execution_count": 51,
   "metadata": {},
   "outputs": [],
   "source": [
    "# Training\n",
    "for i in range(1000):\n",
    "    batch_X, batch_Y = mnist.train.next_batch(100)\n",
    "    learning_rate = lrmin + (lrmax - lrmin) * exp(-i / decay_speed)\n",
    "    train_data = {\n",
    "        X: batch_X,\n",
    "        Y_: batch_Y,\n",
    "        L: learning_rate,\n",
    "        pkeep: 0.9\n",
    "    }\n",
    "\n",
    "    sess.run(train_step, feed_dict=train_data)"
   ]
  },
  {
   "cell_type": "code",
   "execution_count": 55,
   "metadata": {},
   "outputs": [],
   "source": [
    "# Accuracy\n",
    "is_correct = tf.equal(tf.argmax(Y, 1), tf.argmax(Y_, 1))\n",
    "accuracy = tf.reduce_mean(tf.cast(is_correct, tf.float32))"
   ]
  },
  {
   "cell_type": "code",
   "execution_count": 56,
   "metadata": {},
   "outputs": [
    {
     "name": "stdout",
     "output_type": "stream",
     "text": [
      "0.9645\n"
     ]
    }
   ],
   "source": [
    "# Testing\n",
    "test_data={X: mnist.test.images, Y_: mnist.test.labels, pkeep: 1.0}\n",
    "a,c = sess.run([accuracy, cross_entropy], feed_dict=test_data)\n",
    "print(a)"
   ]
  },
  {
   "cell_type": "code",
   "execution_count": null,
   "metadata": {},
   "outputs": [],
   "source": [
    ""
   ]
  }
 ],
 "metadata": {
  "kernelspec": {
   "display_name": "Python 3",
   "language": "python",
   "name": "python3"
  },
  "language_info": {
   "codemirror_mode": {
    "name": "ipython",
    "version": 3.0
   },
   "file_extension": ".py",
   "mimetype": "text/x-python",
   "name": "python",
   "nbconvert_exporter": "python",
   "pygments_lexer": "ipython3",
   "version": "3.6.1"
  }
 },
 "nbformat": 4,
 "nbformat_minor": 0
}