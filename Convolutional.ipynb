{
 "cells": [
  {
   "cell_type": "code",
   "execution_count": 25,
   "metadata": {
    "collapsed": true
   },
   "outputs": [],
   "source": [
    "import tensorflow as tf\n",
    "import numpy as np\n",
    "\n",
    "from math import exp"
   ]
  },
  {
   "cell_type": "code",
   "execution_count": 13,
   "metadata": {},
   "outputs": [
    {
     "name": "stdout",
     "output_type": "stream",
     "text": [
      "Extracting data/train-images-idx3-ubyte.gz\n",
      "Extracting data/train-labels-idx1-ubyte.gz\n",
      "Extracting data/t10k-images-idx3-ubyte.gz\n",
      "Extracting data/t10k-labels-idx1-ubyte.gz\n"
     ]
    }
   ],
   "source": [
    "from tensorflow.examples.tutorials.mnist import input_data as mnist_data\n",
    "mnist = mnist_data.read_data_sets(\"data\", one_hot=True, reshape=False, validation_size=0)"
   ]
  },
  {
   "cell_type": "code",
   "execution_count": 3,
   "metadata": {
    "collapsed": true
   },
   "outputs": [],
   "source": [
    "# Learning Rate Values\n",
    "lrmax = 0.003\n",
    "lrmin = 0.00001\n",
    "decay_speed = 2000.0\n",
    "stddev = 0.1"
   ]
  },
  {
   "cell_type": "code",
   "execution_count": 2,
   "metadata": {
    "collapsed": true
   },
   "outputs": [],
   "source": [
    "# Place Holders for loading data on training\n",
    "X = tf.placeholder(tf.float32, [None, 28, 28, 1])\n",
    "Y_ = tf.placeholder(tf.float32, [None, 10])\n",
    "L = tf.placeholder(tf.float32)"
   ]
  },
  {
   "cell_type": "code",
   "execution_count": null,
   "metadata": {
    "collapsed": true
   },
   "outputs": [],
   "source": []
  },
  {
   "cell_type": "code",
   "execution_count": null,
   "metadata": {
    "collapsed": true
   },
   "outputs": [],
   "source": [
    "# Filter is the block of data (pixels) to scan an image and produce a value\n",
    "filter = (3,3)\n",
    "\n",
    "# A grey scall image would have one, RGB would have 3\n",
    "input_channel = 1\n",
    "\n",
    "# Number of channels to produce. Each layer serves as a shape recognisers.\n",
    "output_channel = 4"
   ]
  },
  {
   "cell_type": "code",
   "execution_count": null,
   "metadata": {
    "collapsed": true
   },
   "outputs": [],
   "source": [
    "image = [\n",
    "    [ 0.11,  0.12,  0.13,  0.14],\n",
    "    [ 0.21,  0.22,  0.23,  0.24],\n",
    "    [ 0.31,  0.32,  0.33,  0.34],\n",
    "    [ 0.50,  0.60,  0.70,  0.80]\n",
    "]"
   ]
  },
  {
   "cell_type": "code",
   "execution_count": 16,
   "metadata": {
    "collapsed": true
   },
   "outputs": [],
   "source": [
    "# Weights\n",
    "\n",
    "# Convolutional Layers\n",
    "W1 = tf.Variable(tf.truncated_normal([5, 5, 1, 4], stddev=stddev))\n",
    "B1 = tf.Variable(tf.ones([4])/10)\n",
    "\n",
    "# L2\n",
    "W2 = tf.Variable(tf.truncated_normal([4, 4, 4, 8], stddev=stddev))\n",
    "B2 = tf.Variable(tf.ones([8])/10)\n",
    "\n",
    "# L3\n",
    "W3 = tf.Variable(tf.truncated_normal([4, 4, 8, 12], stddev=stddev))\n",
    "B3 = tf.Variable(tf.ones([12])/10)\n",
    "\n",
    "# Fully Connected Layer\n",
    "W4 = tf.Variable(tf.truncated_normal([7*7*12, 200], stddev=stddev))\n",
    "B4 = tf.Variable(tf.ones([200])/10)\n",
    "\n",
    "# Softmax Readout Layer\n",
    "W5 = tf.Variable(tf.truncated_normal([200, 10], stddev=stddev))\n",
    "B5 = tf.Variable(tf.ones([10])/10)"
   ]
  },
  {
   "cell_type": "code",
   "execution_count": 18,
   "metadata": {},
   "outputs": [],
   "source": [
    "# The model\n",
    "stride = 1  # output is 28x28\n",
    "Y1 = tf.nn.relu(tf.nn.conv2d(X, W1, strides=[1, stride, stride, 1], padding='SAME') + B1)\n",
    "stride = 2  # output is 14x14\n",
    "Y2 = tf.nn.relu(tf.nn.conv2d(Y1, W2, strides=[1, stride, stride, 1], padding='SAME') + B2)\n",
    "stride = 2  # output is 7x7\n",
    "Y3 = tf.nn.relu(tf.nn.conv2d(Y2, W3, strides=[1, stride, stride, 1], padding='SAME') + B3)\n",
    "\n",
    "# reshape the output from the third convolution for the fully connected layer\n",
    "YY = tf.reshape(Y3, shape=[-1, 7 * 7 * 12])\n",
    "\n",
    "Y4 = tf.nn.relu(tf.matmul(YY, W4) + B4)\n",
    "Ylogits = tf.matmul(Y4, W5) + B5\n",
    "Y = tf.nn.softmax(Ylogits)"
   ]
  },
  {
   "cell_type": "code",
   "execution_count": 20,
   "metadata": {},
   "outputs": [],
   "source": [
    "# cross-entropy loss function (= -sum(Y_i * log(Yi)) ), normalised for batches of 100  images\n",
    "# TensorFlow provides the softmax_cross_entropy_with_logits function to avoid numerical stability\n",
    "# problems with log(0) which is NaN\n",
    "cross_entropy = tf.nn.softmax_cross_entropy_with_logits(logits=Ylogits, labels=Y_)\n",
    "cross_entropy = tf.reduce_mean(cross_entropy)*100\n",
    "\n",
    "# accuracy of the trained model, between 0 (worst) and 1 (best)\n",
    "correct_prediction = tf.equal(tf.argmax(Y, 1), tf.argmax(Y_, 1))\n",
    "accuracy = tf.reduce_mean(tf.cast(correct_prediction, tf.float32))\n",
    "train_step = tf.train.AdamOptimizer(L).minimize(cross_entropy)"
   ]
  },
  {
   "cell_type": "code",
   "execution_count": 21,
   "metadata": {
    "collapsed": true
   },
   "outputs": [],
   "source": [
    "init = tf.global_variables_initializer()\n",
    "\n",
    "sess = tf.Session()\n",
    "sess.run(init)"
   ]
  },
  {
   "cell_type": "code",
   "execution_count": 28,
   "metadata": {},
   "outputs": [],
   "source": [
    "batch_X, batch_Y = mnist.train.next_batch(100)\n",
    "learning_rate = lrmin + (lrmax - lrmin) * exp(-1/decay_speed)\n",
    "sess.run(train_step, {X: batch_X, Y_: batch_Y, L: learning_rate})"
   ]
  },
  {
   "cell_type": "code",
   "execution_count": 35,
   "metadata": {},
   "outputs": [],
   "source": [
    "t = sess.run(Y1, feed_dict={X:batch_X})"
   ]
  },
  {
   "cell_type": "code",
   "execution_count": 43,
   "metadata": {},
   "outputs": [
    {
     "data": {
      "text/plain": [
       "array([[ 0.10299851,  0.10299851,  0.09700158,  0.09700149],\n",
       "       [ 0.10299851,  0.10299851,  0.09700158,  0.09700149],\n",
       "       [ 0.10299851,  0.10299851,  0.09700158,  0.09700149],\n",
       "       [ 0.10299851,  0.10299851,  0.09700158,  0.09700149],\n",
       "       [ 0.00075129,  0.21241914,  0.29284447,  0.02677534],\n",
       "       [ 0.        ,  0.        ,  0.35825065,  0.        ],\n",
       "       [ 0.        ,  0.        ,  0.30993539,  0.        ],\n",
       "       [ 0.        ,  0.        ,  0.22142845,  0.        ],\n",
       "       [ 0.        ,  0.        ,  0.45041776,  0.        ],\n",
       "       [ 0.17468926,  0.        ,  0.48236859,  0.        ],\n",
       "       [ 0.20934469,  0.00145258,  0.36810559,  0.        ],\n",
       "       [ 0.25532031,  0.18649432,  0.09570371,  0.        ],\n",
       "       [ 0.22195783,  0.35920435,  0.07332038,  0.        ],\n",
       "       [ 0.        ,  0.30810893,  0.29266655,  0.        ],\n",
       "       [ 0.        ,  0.        ,  0.4023014 ,  0.11701883],\n",
       "       [ 0.        ,  0.        ,  0.208664  ,  0.07150308],\n",
       "       [ 0.10487191,  0.        ,  0.18931778,  0.        ],\n",
       "       [ 0.23488952,  0.        ,  0.26749054,  0.        ],\n",
       "       [ 0.16703591,  0.09672935,  0.34080702,  0.        ],\n",
       "       [ 0.11698063,  0.11335559,  0.13795939,  0.0640503 ],\n",
       "       [ 0.10299851,  0.10299851,  0.09700158,  0.09700149],\n",
       "       [ 0.10299851,  0.10299851,  0.09700158,  0.09700149],\n",
       "       [ 0.10299851,  0.10299851,  0.09700158,  0.09700149],\n",
       "       [ 0.10299851,  0.10299851,  0.09700158,  0.09700149],\n",
       "       [ 0.10299851,  0.10299851,  0.09700158,  0.09700149],\n",
       "       [ 0.10299851,  0.10299851,  0.09700158,  0.09700149],\n",
       "       [ 0.10299851,  0.10299851,  0.09700158,  0.09700149],\n",
       "       [ 0.10299851,  0.10299851,  0.09700158,  0.09700149]], dtype=float32)"
      ]
     },
     "execution_count": 43,
     "metadata": {},
     "output_type": "execute_result"
    }
   ],
   "source": [
    "t[0][10]"
   ]
  }
 ],
 "metadata": {
  "kernelspec": {
   "display_name": "Python 3",
   "language": "python",
   "name": "python3"
  },
  "language_info": {
   "codemirror_mode": {
    "name": "ipython",
    "version": 3
   },
   "file_extension": ".py",
   "mimetype": "text/x-python",
   "name": "python",
   "nbconvert_exporter": "python",
   "pygments_lexer": "ipython3",
   "version": "3.6.1"
  }
 },
 "nbformat": 4,
 "nbformat_minor": 2
}
