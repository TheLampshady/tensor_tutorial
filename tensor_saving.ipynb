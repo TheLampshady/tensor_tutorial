{
 "cells": [
  {
   "cell_type": "code",
   "execution_count": 1,
   "metadata": {
    "collapsed": true
   },
   "outputs": [],
   "source": [
    "import tensorflow as tf\n",
    "from os import path, makedirs"
   ]
  },
  {
   "cell_type": "code",
   "execution_count": 2,
   "metadata": {
    "collapsed": true
   },
   "outputs": [],
   "source": [
    "# Create directory for saving.\n",
    "logs_path = \"tensor_log/\" + path.splitext(path.basename(\"tensor_saving\"))[0]\n",
    "checkpoint_dir = path.abspath(path.join(logs_path, \"checkpoints\"))\n",
    "checkpoint_prefix = path.join(checkpoint_dir, \"model\")\n",
    "if not path.exists(checkpoint_dir):\n",
    "    makedirs(checkpoint_dir)"
   ]
  },
  {
   "cell_type": "code",
   "execution_count": 3,
   "metadata": {
    "collapsed": true
   },
   "outputs": [],
   "source": [
    "# Two types of vars\n",
    "v1 = tf.get_variable(\"v1\", shape=[3], initializer=tf.zeros_initializer)\n",
    "v2 = tf.Variable(tf.zeros([3]), name=\"v2\")\n",
    "\n",
    "# Var initializer\n",
    "init_op = tf.global_variables_initializer()"
   ]
  },
  {
   "cell_type": "code",
   "execution_count": 4,
   "metadata": {
    "collapsed": true
   },
   "outputs": [],
   "source": [
    "# Two operations to track change\n",
    "inc_v1 = v1.assign(v1+1)\n",
    "dec_v2 = v2.assign(v2-1)"
   ]
  },
  {
   "cell_type": "code",
   "execution_count": 5,
   "metadata": {},
   "outputs": [
    {
     "name": "stdout",
     "output_type": "stream",
     "text": [
      "All Variables:\n [<tf.Variable 'v1:0' shape=(3,) dtype=float32_ref>, <tf.Variable 'v2:0' shape=(3,) dtype=float32_ref>]\n"
     ]
    }
   ],
   "source": [
    "saver = tf.train.Saver()\n",
    "# A list of vars can be passed as well\n",
    "# saver = tf.train.Saver(tf.global_variables())\n",
    "print(\"All Variables:\\n\", tf.global_variables())"
   ]
  },
  {
   "cell_type": "code",
   "execution_count": 6,
   "metadata": {
    "collapsed": true
   },
   "outputs": [],
   "source": [
    "# Start Session and init vars\n",
    "sess = tf.Session()\n",
    "sess.run(init_op)"
   ]
  },
  {
   "cell_type": "code",
   "execution_count": 7,
   "metadata": {},
   "outputs": [
    {
     "name": "stdout",
     "output_type": "stream",
     "text": [
      "v1 Init:\n [ 0.  0.  0.]\nv2 Init:\n [ 0.  0.  0.]\n"
     ]
    }
   ],
   "source": [
    "# Print Init values\n",
    "print(\"v1 Init: \", v1.eval(session=sess))\n",
    "print(\"v2 Init: \", v2.eval(session=sess))"
   ]
  },
  {
   "cell_type": "code",
   "execution_count": 8,
   "metadata": {},
   "outputs": [
    {
     "name": "stdout",
     "output_type": "stream",
     "text": [
      "v1 Post:  [ 1.  1.  1.]\nv2 Post:  [-1. -1. -1.]\n"
     ]
    }
   ],
   "source": [
    "# Run operations and save results\n",
    "inc_v1.op.run(session=sess)\n",
    "dec_v2.op.run(session=sess)\n",
    "\n",
    "print(\"v1 Post: \", v1.eval(session=sess))\n",
    "print(\"v2 Post: \", v2.eval(session=sess))\n",
    "\n",
    "path = saver.save(sess, checkpoint_prefix)"
   ]
  },
  {
   "cell_type": "code",
   "execution_count": 12,
   "metadata": {},
   "outputs": [],
   "source": [
    "# Close session\n",
    "sess.close()\n",
    "tf.reset_default_graph()"
   ]
  },
  {
   "cell_type": "code",
   "execution_count": 13,
   "metadata": {},
   "outputs": [],
   "source": [
    "# Reset session\n",
    "v1_new = tf.get_variable(\"v1\", shape=[3], initializer=tf.zeros_initializer)\n",
    "v2_new = tf.Variable(tf.zeros([3]), name=\"v2\")\n",
    "\n",
    "init_op = tf.global_variables_initializer()\n",
    "\n",
    "saver = tf.train.Saver()\n",
    "\n",
    "sess = tf.Session()\n",
    "sess.run(init_op)"
   ]
  },
  {
   "cell_type": "code",
   "execution_count": 15,
   "metadata": {},
   "outputs": [
    {
     "name": "stdout",
     "output_type": "stream",
     "text": [
      "Initial Parameters\nv1 Init:  [ 1.  1.  1.]\nv2 Init:  [-1. -1. -1.]\nINFO:tensorflow:Restoring parameters from /Users/zgoldstein/projects/ai/tensor_tutorial/tensor_log/tensor_saving/checkpoints/model\n"
     ]
    },
    {
     "name": "stdout",
     "output_type": "stream",
     "text": [
      "Restored Parameters\nv1 Loaded:  [ 1.  1.  1.]\nv2 Loaded:  [-1. -1. -1.]\n"
     ]
    }
   ],
   "source": [
    "# Show session loading\n",
    "print(\"Initial Parameters\")\n",
    "print(\"v1 Init: \", v1_new.eval(session=sess))\n",
    "print(\"v2 Init: \", v2_new.eval(session=sess))\n",
    "\n",
    "saver.restore(sess, checkpoint_prefix)\n",
    "\n",
    "print(\"Restored Parameters\")\n",
    "print(\"v1 Loaded: \", v1_new.eval(session=sess))\n",
    "print(\"v2 Loaded: \", v2_new.eval(session=sess))"
   ]
  },
  {
   "cell_type": "code",
   "execution_count": null,
   "metadata": {},
   "outputs": [],
   "source": [
    ""
   ]
  }
 ],
 "metadata": {
  "kernelspec": {
   "display_name": "Python 3",
   "language": "python",
   "name": "python3"
  },
  "language_info": {
   "codemirror_mode": {
    "name": "ipython",
    "version": 3.0
   },
   "file_extension": ".py",
   "mimetype": "text/x-python",
   "name": "python",
   "nbconvert_exporter": "python",
   "pygments_lexer": "ipython3",
   "version": "3.6.1"
  }
 },
 "nbformat": 4,
 "nbformat_minor": 0
}