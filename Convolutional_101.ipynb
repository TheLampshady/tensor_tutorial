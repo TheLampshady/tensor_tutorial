{
 "cells": [
  {
   "cell_type": "code",
   "execution_count": 1,
   "metadata": {
    "collapsed": true
   },
   "outputs": [],
   "source": [
    "import tensorflow as tf\n",
    "import numpy as np"
   ]
  },
  {
   "cell_type": "code",
   "execution_count": null,
   "metadata": {
    "collapsed": true
   },
   "outputs": [],
   "source": [
    ""
   ]
  },
  {
   "cell_type": "code",
   "execution_count": 2,
   "metadata": {
    "collapsed": true
   },
   "outputs": [],
   "source": [
    "# Filter is the block of data (pixels) to scan an image and produce a value\n",
    "filter_size = (3,3)\n",
    "\n",
    "# A grey scale image would have one, RGB would have 3\n",
    "input_channel = 1\n",
    "\n",
    "# Number of channels to produce. With data aggregated, each channel \n",
    "output_channel = 2"
   ]
  },
  {
   "cell_type": "code",
   "execution_count": 3,
   "metadata": {
    "collapsed": true
   },
   "outputs": [],
   "source": [
    "image = [\n",
    "    [0.11, 0.12, 0.13, 0.14],\n",
    "    [0.21, 0.22, 0.23, 0.24],\n",
    "    [0.31, 0.32, 0.33, 0.34],\n",
    "    [0.41, 0.42, 0.43, 0.44]\n",
    "]\n"
   ]
  },
  {
   "cell_type": "code",
   "execution_count": 4,
   "metadata": {},
   "outputs": [
    {
     "name": "stdout",
     "output_type": "stream",
     "text": [
      "0.1\n"
     ]
    }
   ],
   "source": [
    "filter1 = [\n",
    "    [.4, .6, .4],\n",
    "    [.6, .9, .6],\n",
    "    [.1, .6, .4],\n",
    "]\n",
    "\n",
    "filter2 = [\n",
    "    [.9, .5, .9],\n",
    "    [.5, .3, .5],\n",
    "    [.9, .5, .9],\n",
    "]\n",
    "\n",
    "channel1 = [filter1]\n",
    "channel2 = [filter2]\n",
    "\n",
    "convolution_layer1 = [channel1, channel2]\n",
    "\n",
    "print(convolution_layer1[0][0][2][0])"
   ]
  },
  {
   "cell_type": "code",
   "execution_count": null,
   "metadata": {
    "collapsed": true
   },
   "outputs": [],
   "source": [
    "for channel in convolution_layer1:\n",
    "    for filter_layer in channel:\n",
    "        pass\n",
    "        # Run filter over images"
   ]
  }
 ],
 "metadata": {
  "kernelspec": {
   "display_name": "Python 3",
   "language": "python",
   "name": "python3"
  },
  "language_info": {
   "codemirror_mode": {
    "name": "ipython",
    "version": 3.0
   },
   "file_extension": ".py",
   "mimetype": "text/x-python",
   "name": "python",
   "nbconvert_exporter": "python",
   "pygments_lexer": "ipython3",
   "version": "3.6.1"
  }
 },
 "nbformat": 4,
 "nbformat_minor": 0
}