{
 "cells": [
  {
   "cell_type": "code",
   "execution_count": 1,
   "metadata": {
    "collapsed": true
   },
   "outputs": [],
   "source": [
    "import tensorflow as tf\n",
    "import numpy as np"
   ]
  },
  {
   "cell_type": "code",
   "execution_count": 2,
   "metadata": {},
   "outputs": [],
   "source": [
    "np.set_printoptions(formatter={'float': lambda x: \"{0:0.3f}\".format(x)})"
   ]
  },
  {
   "cell_type": "code",
   "execution_count": 3,
   "metadata": {
    "collapsed": true
   },
   "outputs": [],
   "source": [
    "# Filter is the block of data (pixels) to scan an image and produce a value\n",
    "filter_size = [3, 3]\n",
    "\n",
    "# A grey scale image would have one, RGB would have 3\n",
    "input_channel = 1\n",
    "\n",
    "# Number of channels to produce. With data aggregated, each channel \n",
    "output_channel = 2"
   ]
  },
  {
   "cell_type": "code",
   "execution_count": 4,
   "metadata": {
    "collapsed": true
   },
   "outputs": [
    {
     "name": "stdout",
     "output_type": "stream",
     "text": [
      "4 x 4\n"
     ]
    }
   ],
   "source": [
    "image_1 = [\n",
    "    [[0.11], [0.12], [0.13], [0.14]],\n",
    "    [[0.21], [0.22], [0.23], [0.24]],\n",
    "    [[0.31], [0.32], [0.33], [0.34]],\n",
    "    [[0.41], [0.42], [0.43], [0.44]]\n",
    "]\n",
    "\n",
    "input_x = [image_1]\n",
    "\n",
    "height = len(image_1)\n",
    "width = len(image_1[0])\n",
    "channel = len(image_1[0][0])\n",
    "print(\"%d x %d\" % (height, width))"
   ]
  },
  {
   "cell_type": "code",
   "execution_count": 5,
   "metadata": {},
   "outputs": [],
   "source": [
    "input_shape = [None, height, width, input_channel]\n",
    "X = tf.placeholder(tf.float32, input_shape)"
   ]
  },
  {
   "cell_type": "markdown",
   "metadata": {},
   "source": [
    "## Convolutional Weights and Bias\n",
    "### Weight Shape: 3 x 3 x 1 x 2\n",
    "    * Filter sizes: 3 x 3 (Modeler's choice)\n",
    "    * Input Channels: 1 (Greyscale)\n",
    "    * Output Channels: 2 (Modeler's choice)\t"
   ]
  },
  {
   "cell_type": "code",
   "execution_count": 6,
   "metadata": {},
   "outputs": [
    {
     "name": "stdout",
     "output_type": "stream",
     "text": [
      "0.2\n"
     ]
    }
   ],
   "source": [
    "# 3 x 3 filter shape\n",
    "filter1 = [\n",
    "    [.1, .1, .2],\n",
    "    [.1, .1, .2],\n",
    "    [.2, .2, .2], \n",
    "]\n",
    "\n",
    "# Each filter only has one input channel (grey scale)\n",
    "# 3 x 3 x 1\n",
    "channel_filters1 = [filter1]\n",
    "\n",
    "# We want to output 2 channels which requires another set of 3 x 3 x 1\n",
    "\n",
    "filter2 = [\n",
    "    [.9, .5, .9],\n",
    "    [.5, .3, .5],\n",
    "    [.9, .5, .9],\n",
    "]\n",
    "channel_filters2 = [filter2]\n",
    "\n",
    "# Initialized Weights\n",
    "# 3 x 3 x 1 x 2\n",
    "convolution_layer1 = [channel_filters1, channel_filters2]\n",
    "\n",
    "print(convolution_layer1[0][0][2][0])"
   ]
  },
  {
   "cell_type": "code",
   "execution_count": 7,
   "metadata": {
    "collapsed": true
   },
   "outputs": [
    {
     "name": "stdout",
     "output_type": "stream",
     "text": [
      "[0.1, 0.1, 0.2]\n[0.1, 0.1, 0.2]\n[0.2, 0.2, 0.2]\n\n[0.9, 0.5, 0.9]\n[0.5, 0.3, 0.5]\n[0.9, 0.5, 0.9]\n\n"
     ]
    }
   ],
   "source": [
    "for filters in convolution_layer1:\n",
    "    for channel_filter in filters:\n",
    "        for row in channel_filter:\n",
    "            print(row)\n",
    "        print()"
   ]
  },
  {
   "cell_type": "markdown",
   "metadata": {},
   "source": [
    "### Bias Shape: 2\n",
    "Matches the number of output channels"
   ]
  },
  {
   "cell_type": "code",
   "execution_count": 8,
   "metadata": {},
   "outputs": [],
   "source": [
    "biases_1 = [0.1, 0.1]"
   ]
  },
  {
   "cell_type": "markdown",
   "metadata": {},
   "source": [
    "## Convolutional Layers"
   ]
  },
  {
   "cell_type": "code",
   "execution_count": 9,
   "metadata": {},
   "outputs": [
    {
     "name": "stdout",
     "output_type": "stream",
     "text": [
      "(3, 3, 1, 2)\n"
     ]
    }
   ],
   "source": [
    "# Number of pixels to shift want evaluating a filter\n",
    "stride_1 = 1\n",
    "\n",
    "# Transpose to match inputs \n",
    "W1 = tf.Variable(np.transpose(convolution_layer1), dtype=tf.float32)\n",
    "B1 = tf.Variable(biases_1, dtype=tf.float32)\n",
    "print(W1.shape)"
   ]
  },
  {
   "cell_type": "markdown",
   "metadata": {},
   "source": [
    "# Activation Shape: 4 x 4 x 2\n",
    "* dimension_1 = hight / stride\n",
    "* dimension_2 = width / stride\n",
    "* dimension_3 = output_channel"
   ]
  },
  {
   "cell_type": "code",
   "execution_count": 10,
   "metadata": {},
   "outputs": [
    {
     "name": "stdout",
     "output_type": "stream",
     "text": [
      "(?, 4, 4, 2)\n"
     ]
    }
   ],
   "source": [
    "stride_shape = [1, stride_1, stride_1, 1]\n",
    "preactivation = tf.nn.conv2d(X, W1, strides=stride_shape, padding='SAME') + B1\n",
    "activation_1 = tf.nn.relu(preactivation)\n",
    "\n",
    "print(activation_1.shape)"
   ]
  },
  {
   "cell_type": "code",
   "execution_count": 11,
   "metadata": {},
   "outputs": [],
   "source": [
    "# Create a session\n",
    "init = tf.global_variables_initializer()\n",
    "\n",
    "sess = tf.Session()\n",
    "sess.run(init)"
   ]
  },
  {
   "cell_type": "code",
   "execution_count": 12,
   "metadata": {
    "collapsed": true
   },
   "outputs": [
    {
     "name": "stdout",
     "output_type": "stream",
     "text": [
      "[[[[0.100 0.100 0.200]\n   [0.100 0.100 0.200]\n   [0.200 0.200 0.200]]]\n\n\n [[[0.900 0.500 0.900]\n   [0.500 0.300 0.500]\n   [0.900 0.500 0.900]]]]\n"
     ]
    }
   ],
   "source": [
    "x = sess.run(W1)\n",
    "\n",
    "# Transpose to match our model \n",
    "print(np.transpose(x))"
   ]
  },
  {
   "cell_type": "code",
   "execution_count": 13,
   "metadata": {},
   "outputs": [
    {
     "name": "stdout",
     "output_type": "stream",
     "text": [
      "[[[[0.200]\n   [0.300]\n   [0.400]\n   [0.300]]\n\n  [[0.300]\n   [0.400]\n   [0.600]\n   [0.400]]\n\n  [[0.300]\n   [0.400]\n   [0.600]\n   [0.400]]\n\n  [[0.200]\n   [0.300]\n   [0.400]\n   [0.300]]]\n\n\n [[[0.500]\n   [0.900]\n   [1.200]\n   [0.900]]\n\n  [[0.800]\n   [1.400]\n   [2.000]\n   [1.400]]\n\n  [[0.800]\n   [1.500]\n   [2.000]\n   [1.400]]\n\n  [[0.500]\n   [0.900]\n   [1.300]\n   [0.900]]]]\n"
     ]
    }
   ],
   "source": [
    "# Transpose to match our model \n",
    "feed_dict = {X: input_x}\n",
    "Y1 = activation_1.eval(session=sess, feed_dict=feed_dict)\n",
    "\n",
    "print(np.round_(np.transpose(Y1), 1))"
   ]
  },
  {
   "cell_type": "markdown",
   "metadata": {},
   "source": [
    "# Activation2 Shape: 2 x 2 x 4\n",
    "* dimension_1 = d1 / stride\n",
    "* dimension_2 = d2 / stride\n",
    "* dimension_3 = output_channel"
   ]
  },
  {
   "cell_type": "code",
   "execution_count": 14,
   "metadata": {},
   "outputs": [],
   "source": [
    "init_2 = tf.truncated_normal([4, 4, 2, 4], stddev=0.1)\n",
    "W2 = tf.Variable(init_2)\n",
    "B2 = tf.Variable(tf.ones([4])/10)\n",
    "\n",
    "stride_2 = 2\n"
   ]
  },
  {
   "cell_type": "code",
   "execution_count": 18,
   "metadata": {},
   "outputs": [
    {
     "name": "stdout",
     "output_type": "stream",
     "text": [
      "(?, 2, 2, 4)\n"
     ]
    }
   ],
   "source": [
    "strides = [1, stride_2, stride_2, 1]\n",
    "preactivate = tf.nn.conv2d(activation_1, W2, strides=strides, padding='SAME') + B2\n",
    "activation_2 = tf.nn.relu(preactivate)\n",
    "\n",
    "print(activation_2.shape)"
   ]
  },
  {
   "cell_type": "markdown",
   "metadata": {},
   "source": [
    "## Fully Connected Layer\n",
    "The output of a Convolutional layer must flattened to a single layer\n",
    "\n",
    "* Reshape: [2, 2, 4] --> [16]\n",
    "* Select a number of nodes to output like a tradional ann layer. (200)"
   ]
  },
  {
   "cell_type": "code",
   "execution_count": 19,
   "metadata": {},
   "outputs": [
    {
     "name": "stdout",
     "output_type": "stream",
     "text": [
      "(?, 16)\n"
     ]
    }
   ],
   "source": [
    "# reshape the output from the third convolution for the fully connected layer\n",
    "reduced = int(np.multiply.reduce(list(activation_2.shape[1:])))\n",
    "re_shape = [-1, reduced]\n",
    "\n",
    "fully_connected_input = tf.reshape(activation_2, shape=re_shape)\n",
    "print(fully_connected_input.shape)"
   ]
  },
  {
   "cell_type": "code",
   "execution_count": 20,
   "metadata": {},
   "outputs": [],
   "source": [
    "fully_connected_nodes = 6\n",
    "\n",
    "fc_w_init = tf.truncated_normal([reduced, fully_connected_nodes], stddev=0.1)\n",
    "fully_connected_weights = tf.Variable(fc_w_init)\n",
    "\n",
    "fc_b_init = tf.ones([fully_connected_nodes])/10\n",
    "fully_connected_biases = tf.Variable(fc_b_init)"
   ]
  },
  {
   "cell_type": "code",
   "execution_count": 21,
   "metadata": {},
   "outputs": [
    {
     "name": "stdout",
     "output_type": "stream",
     "text": [
      "(?, 6)\n"
     ]
    }
   ],
   "source": [
    "preactivate = tf.matmul(fully_connected_input, fully_connected_weights) + fully_connected_biases\n",
    "fully_connected_activate = tf.nn.relu(preactivate)\n",
    "\n",
    "print(fully_connected_activate.shape)"
   ]
  },
  {
   "cell_type": "code",
   "execution_count": null,
   "metadata": {},
   "outputs": [],
   "source": []
  }
 ],
 "metadata": {
  "kernelspec": {
   "display_name": "Python 3",
   "language": "python",
   "name": "python3"
  },
  "language_info": {
   "codemirror_mode": {
    "name": "ipython",
    "version": 3
   },
   "file_extension": ".py",
   "mimetype": "text/x-python",
   "name": "python",
   "nbconvert_exporter": "python",
   "pygments_lexer": "ipython3",
   "version": "3.6.1"
  }
 },
 "nbformat": 4,
 "nbformat_minor": 0
}
