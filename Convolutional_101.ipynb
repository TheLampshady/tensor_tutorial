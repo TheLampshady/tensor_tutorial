{
 "cells": [
  {
   "cell_type": "code",
   "execution_count": 2,
   "metadata": {
    "collapsed": true
   },
   "outputs": [],
   "source": [
    "import tensorflow as tf\n",
    "import numpy as np"
   ]
  },
  {
   "cell_type": "code",
   "execution_count": 35,
   "metadata": {
    "collapsed": true
   },
   "outputs": [],
   "source": [
    "# Filter is the block of data (pixels) to scan an image and produce a value\n",
    "filter_size = [3, 3]\n",
    "\n",
    "# A grey scale image would have one, RGB would have 3\n",
    "input_channel = 1\n",
    "\n",
    "# Number of channels to produce. With data aggregated, each channel \n",
    "output_channel = 2"
   ]
  },
  {
   "cell_type": "code",
   "execution_count": 50,
   "metadata": {
    "collapsed": true
   },
   "outputs": [
    {
     "name": "stdout",
     "output_type": "stream",
     "text": [
      "4 x 4\n"
     ]
    }
   ],
   "source": [
    "image = [\n",
    "    [0.11, 0.12, 0.13, 0.14],\n",
    "    [0.21, 0.22, 0.23, 0.24],\n",
    "    [0.31, 0.32, 0.33, 0.34],\n",
    "    [0.41, 0.42, 0.43, 0.44]\n",
    "]\n",
    "height = len(image)\n",
    "width = len(image[0])\n",
    "print(\"%d x %d\" % (height, width))"
   ]
  },
  {
   "cell_type": "code",
   "execution_count": 39,
   "metadata": {},
   "outputs": [],
   "source": [
    "X = tf.placeholder(tf.float32, [None, height, width, input_channel])"
   ]
  },
  {
   "cell_type": "markdown",
   "metadata": {},
   "source": [
    "## Convolutional Weights and Bias\n",
    "### Weight Shape: 3 x 3 x 1 x 2\n",
    "    * Filter sizes: 3 x 3 (Modeler's choice)\n",
    "    * Input Channels: 1 (Greyscale)\n",
    "    * Output Channels: 2 (Modeler's choice)\t"
   ]
  },
  {
   "cell_type": "code",
   "execution_count": 40,
   "metadata": {},
   "outputs": [
    {
     "name": "stdout",
     "output_type": "stream",
     "text": [
      "0.1\n"
     ]
    }
   ],
   "source": [
    "# 3 x 3 filter shape\n",
    "filter1 = [\n",
    "    [.4, .6, .4],\n",
    "    [.6, .9, .6],\n",
    "    [.1, .6, .4], \n",
    "]\n",
    "\n",
    "# Each filter only has one input channel (grey scale)\n",
    "# 3 x 3 x 1\n",
    "channel_filters1 = [filter1]\n",
    "\n",
    "# We want to output 2 channels which requires another set of 3 x 3 x 1\n",
    "\n",
    "filter2 = [\n",
    "    [.9, .5, .9],\n",
    "    [.5, .3, .5],\n",
    "    [.9, .5, .9],\n",
    "]\n",
    "channel_filters2 = [filter2]\n",
    "\n",
    "# Initialized Weights\n",
    "# 3 x 3 x 1 x 2\n",
    "convolution_layer1 = [channel_filters1, channel_filters2]\n",
    "\n",
    "print(convolution_layer1[0][0][2][0])"
   ]
  },
  {
   "cell_type": "code",
   "execution_count": 41,
   "metadata": {
    "collapsed": true
   },
   "outputs": [
    {
     "name": "stdout",
     "output_type": "stream",
     "text": [
      "[0.4, 0.6, 0.4]\n[0.6, 0.9, 0.6]\n[0.1, 0.6, 0.4]\n\n[0.9, 0.5, 0.9]\n[0.5, 0.3, 0.5]\n[0.9, 0.5, 0.9]\n\n"
     ]
    }
   ],
   "source": [
    "for filters in convolution_layer1:\n",
    "    for channel_filter in filters:\n",
    "        for row in channel_filter:\n",
    "            print(row)\n",
    "        print()"
   ]
  },
  {
   "cell_type": "markdown",
   "metadata": {},
   "source": [
    "### Bias Shape: 2\n",
    "Matches the number of output channels"
   ]
  },
  {
   "cell_type": "code",
   "execution_count": 42,
   "metadata": {},
   "outputs": [],
   "source": [
    "biases_1 = [0.1, 0.1]"
   ]
  },
  {
   "cell_type": "markdown",
   "metadata": {},
   "source": [
    "## Convolutional Layers"
   ]
  },
  {
   "cell_type": "code",
   "execution_count": 46,
   "metadata": {},
   "outputs": [
    {
     "name": "stdout",
     "output_type": "stream",
     "text": [
      "(3, 3, 1, 2)\n"
     ]
    }
   ],
   "source": [
    "# Number of pixels to shift want evaluating a filter\n",
    "stride_1 = 1\n",
    "\n",
    "# Transpose to match inputs \n",
    "W1 = tf.Variable(np.transpose(convolution_layer1), dtype=tf.float32)\n",
    "B1 = tf.Variable(biases_1, dtype=tf.float32)\n",
    "print(W1.shape)"
   ]
  },
  {
   "cell_type": "markdown",
   "metadata": {},
   "source": [
    "# Activation Shape: 28 x 28 x 4\n",
    "* dimension_1 = hight / stride\n",
    "* dimension_2 = width / stride\n",
    "* dimension_3 = output_channel"
   ]
  },
  {
   "cell_type": "code",
   "execution_count": null,
   "metadata": {},
   "outputs": [
    {
     "name": "stdout",
     "output_type": "stream",
     "text": [
      "(?, 4, 4, 1)\n"
     ]
    }
   ],
   "source": [
    "stride_shape = [1, stride_1, stride_1, 1]\n",
    "conv_product = tf.nn.conv2d(X, W1, strides=stride_shape, padding='SAME') + B1\n",
    "Y1 = tf.nn.relu(conv_product)\n",
    "\n",
    "print(Y1.shape)"
   ]
  },
  {
   "cell_type": "code",
   "execution_count": 28,
   "metadata": {},
   "outputs": [],
   "source": [
    "# Create a session\n",
    "init = tf.global_variables_initializer()\n",
    "\n",
    "sess = tf.Session()\n",
    "sess.run(init)"
   ]
  },
  {
   "cell_type": "code",
   "execution_count": 29,
   "metadata": {
    "collapsed": true
   },
   "outputs": [
    {
     "name": "stdout",
     "output_type": "stream",
     "text": [
      "[[[[ 0.4  0.6  0.4]\n   [ 0.6  0.9  0.6]\n   [ 0.1  0.6  0.4]]]\n\n\n [[[ 0.9  0.5  0.9]\n   [ 0.5  0.3  0.5]\n   [ 0.9  0.5  0.9]]]]\n"
     ]
    }
   ],
   "source": [
    "x = sess.run(W1)\n",
    "\n",
    "# Transpose to match our model \n",
    "print(np.transpose(x))"
   ]
  },
  {
   "cell_type": "code",
   "execution_count": 24,
   "metadata": {},
   "outputs": [
    {
     "data": {
      "text/plain": [
       "array([[[[ 0.05127421, -0.03921978, -0.06924574],\n         [ 0.14473604, -0.13749844,  0.00805295],\n         [-0.1016577 ,  0.03831165,  0.09203645]]],\n\n\n       [[[-0.02428164, -0.06482875,  0.03666113],\n         [-0.04038973, -0.01543858,  0.0597358 ],\n         [ 0.01271192, -0.17953405,  0.15079948]]]], dtype=float32)"
      ]
     },
     "execution_count": 24,
     "metadata": {},
     "output_type": "execute_result"
    }
   ],
   "source": [
    ""
   ]
  },
  {
   "cell_type": "code",
   "execution_count": null,
   "metadata": {},
   "outputs": [],
   "source": []
  }
 ],
 "metadata": {
  "kernelspec": {
   "display_name": "Python 3",
   "language": "python",
   "name": "python3"
  },
  "language_info": {
   "codemirror_mode": {
    "name": "ipython",
    "version": 3
   },
   "file_extension": ".py",
   "mimetype": "text/x-python",
   "name": "python",
   "nbconvert_exporter": "python",
   "pygments_lexer": "ipython3",
   "version": "3.6.1"
  }
 },
 "nbformat": 4,
 "nbformat_minor": 0
}
